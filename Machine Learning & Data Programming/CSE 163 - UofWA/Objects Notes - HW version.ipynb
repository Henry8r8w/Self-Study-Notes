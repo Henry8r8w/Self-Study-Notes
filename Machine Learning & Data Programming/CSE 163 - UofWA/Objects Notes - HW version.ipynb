{
 "cells": [
  {
   "cell_type": "markdown",
   "metadata": {},
   "source": [
    "## Object Oriented Programming\n",
    "\n",
    "In python, an object (aka instance) is a way of combing into distinct unit of two software concept:\n",
    "1. State\n",
    "2. Behaviors\n",
    "\n",
    "ex. **DataFrame** is an object from pandas library that contains a `groupby` method with behaviors of grouping rows by passed-on conditions of a given data"
   ]
  },
  {
   "cell_type": "code",
   "execution_count": 2,
   "metadata": {},
   "outputs": [
    {
     "data": {
      "text/html": [
       "<div>\n",
       "<style scoped>\n",
       "    .dataframe tbody tr th:only-of-type {\n",
       "        vertical-align: middle;\n",
       "    }\n",
       "\n",
       "    .dataframe tbody tr th {\n",
       "        vertical-align: top;\n",
       "    }\n",
       "\n",
       "    .dataframe thead th {\n",
       "        text-align: right;\n",
       "    }\n",
       "</style>\n",
       "<table border=\"1\" class=\"dataframe\">\n",
       "  <thead>\n",
       "    <tr style=\"text-align: right;\">\n",
       "      <th></th>\n",
       "      <th>PM2.5</th>\n",
       "    </tr>\n",
       "    <tr>\n",
       "      <th>Time</th>\n",
       "      <th></th>\n",
       "    </tr>\n",
       "  </thead>\n",
       "  <tbody>\n",
       "    <tr>\n",
       "      <th>2017</th>\n",
       "      <td>6283</td>\n",
       "    </tr>\n",
       "    <tr>\n",
       "      <th>2018</th>\n",
       "      <td>8540</td>\n",
       "    </tr>\n",
       "    <tr>\n",
       "      <th>2019</th>\n",
       "      <td>8597</td>\n",
       "    </tr>\n",
       "    <tr>\n",
       "      <th>2020</th>\n",
       "      <td>8683</td>\n",
       "    </tr>\n",
       "    <tr>\n",
       "      <th>2021</th>\n",
       "      <td>8664</td>\n",
       "    </tr>\n",
       "    <tr>\n",
       "      <th>2022</th>\n",
       "      <td>2292</td>\n",
       "    </tr>\n",
       "  </tbody>\n",
       "</table>\n",
       "</div>"
      ],
      "text/plain": [
       "      PM2.5\n",
       "Time       \n",
       "2017   6283\n",
       "2018   8540\n",
       "2019   8597\n",
       "2020   8683\n",
       "2021   8664\n",
       "2022   2292"
      ]
     },
     "execution_count": 2,
     "metadata": {},
     "output_type": "execute_result"
    }
   ],
   "source": [
    "import pandas as pd\n",
    "\n",
    "seattle_air = pd.read_csv(\"seattle_air.csv\", index_col=\"Time\", parse_dates=True)\n",
    "seattle_air.groupby(seattle_air.index.year).count()"
   ]
  },
  {
   "cell_type": "markdown",
   "metadata": {},
   "source": [
    "### Reference Semantics\n",
    "\n",
    "When we call `'groupby` method and then `count` the group, the object would a distinct self\n",
    "\n",
    "Say, now we ask for seattle_air, we would expect ungrouped, uncounted version of the dataframe"
   ]
  },
  {
   "cell_type": "code",
   "execution_count": 3,
   "metadata": {},
   "outputs": [
    {
     "data": {
      "text/html": [
       "<div>\n",
       "<style scoped>\n",
       "    .dataframe tbody tr th:only-of-type {\n",
       "        vertical-align: middle;\n",
       "    }\n",
       "\n",
       "    .dataframe tbody tr th {\n",
       "        vertical-align: top;\n",
       "    }\n",
       "\n",
       "    .dataframe thead th {\n",
       "        text-align: right;\n",
       "    }\n",
       "</style>\n",
       "<table border=\"1\" class=\"dataframe\">\n",
       "  <thead>\n",
       "    <tr style=\"text-align: right;\">\n",
       "      <th></th>\n",
       "      <th>PM2.5</th>\n",
       "    </tr>\n",
       "    <tr>\n",
       "      <th>Time</th>\n",
       "      <th></th>\n",
       "    </tr>\n",
       "  </thead>\n",
       "  <tbody>\n",
       "    <tr>\n",
       "      <th>2017-04-06 00:00:00</th>\n",
       "      <td>6.8</td>\n",
       "    </tr>\n",
       "    <tr>\n",
       "      <th>2017-04-06 01:00:00</th>\n",
       "      <td>5.3</td>\n",
       "    </tr>\n",
       "    <tr>\n",
       "      <th>2017-04-06 02:00:00</th>\n",
       "      <td>5.3</td>\n",
       "    </tr>\n",
       "    <tr>\n",
       "      <th>2017-04-06 03:00:00</th>\n",
       "      <td>5.6</td>\n",
       "    </tr>\n",
       "    <tr>\n",
       "      <th>2017-04-06 04:00:00</th>\n",
       "      <td>5.9</td>\n",
       "    </tr>\n",
       "    <tr>\n",
       "      <th>...</th>\n",
       "      <td>...</td>\n",
       "    </tr>\n",
       "    <tr>\n",
       "      <th>2022-04-06 19:00:00</th>\n",
       "      <td>5.1</td>\n",
       "    </tr>\n",
       "    <tr>\n",
       "      <th>2022-04-06 20:00:00</th>\n",
       "      <td>5.0</td>\n",
       "    </tr>\n",
       "    <tr>\n",
       "      <th>2022-04-06 21:00:00</th>\n",
       "      <td>5.3</td>\n",
       "    </tr>\n",
       "    <tr>\n",
       "      <th>2022-04-06 22:00:00</th>\n",
       "      <td>5.2</td>\n",
       "    </tr>\n",
       "    <tr>\n",
       "      <th>2022-04-06 23:00:00</th>\n",
       "      <td>5.2</td>\n",
       "    </tr>\n",
       "  </tbody>\n",
       "</table>\n",
       "<p>43848 rows × 1 columns</p>\n",
       "</div>"
      ],
      "text/plain": [
       "                     PM2.5\n",
       "Time                      \n",
       "2017-04-06 00:00:00    6.8\n",
       "2017-04-06 01:00:00    5.3\n",
       "2017-04-06 02:00:00    5.3\n",
       "2017-04-06 03:00:00    5.6\n",
       "2017-04-06 04:00:00    5.9\n",
       "...                    ...\n",
       "2022-04-06 19:00:00    5.1\n",
       "2022-04-06 20:00:00    5.0\n",
       "2022-04-06 21:00:00    5.3\n",
       "2022-04-06 22:00:00    5.2\n",
       "2022-04-06 23:00:00    5.2\n",
       "\n",
       "[43848 rows x 1 columns]"
      ]
     },
     "execution_count": 3,
     "metadata": {},
     "output_type": "execute_result"
    }
   ],
   "source": [
    "seattle_air"
   ]
  },
  {
   "cell_type": "markdown",
   "metadata": {},
   "source": [
    "However, one method that can modify the underlying dataframe object is the `dropna` method. "
   ]
  },
  {
   "cell_type": "code",
   "execution_count": 4,
   "metadata": {},
   "outputs": [
    {
     "data": {
      "text/html": [
       "<div>\n",
       "<style scoped>\n",
       "    .dataframe tbody tr th:only-of-type {\n",
       "        vertical-align: middle;\n",
       "    }\n",
       "\n",
       "    .dataframe tbody tr th {\n",
       "        vertical-align: top;\n",
       "    }\n",
       "\n",
       "    .dataframe thead th {\n",
       "        text-align: right;\n",
       "    }\n",
       "</style>\n",
       "<table border=\"1\" class=\"dataframe\">\n",
       "  <thead>\n",
       "    <tr style=\"text-align: right;\">\n",
       "      <th></th>\n",
       "      <th>PM2.5</th>\n",
       "    </tr>\n",
       "    <tr>\n",
       "      <th>Time</th>\n",
       "      <th></th>\n",
       "    </tr>\n",
       "  </thead>\n",
       "  <tbody>\n",
       "    <tr>\n",
       "      <th>2017-04-06 00:00:00</th>\n",
       "      <td>6.8</td>\n",
       "    </tr>\n",
       "    <tr>\n",
       "      <th>2017-04-06 01:00:00</th>\n",
       "      <td>5.3</td>\n",
       "    </tr>\n",
       "    <tr>\n",
       "      <th>2017-04-06 02:00:00</th>\n",
       "      <td>5.3</td>\n",
       "    </tr>\n",
       "    <tr>\n",
       "      <th>2017-04-06 03:00:00</th>\n",
       "      <td>5.6</td>\n",
       "    </tr>\n",
       "    <tr>\n",
       "      <th>2017-04-06 04:00:00</th>\n",
       "      <td>5.9</td>\n",
       "    </tr>\n",
       "    <tr>\n",
       "      <th>...</th>\n",
       "      <td>...</td>\n",
       "    </tr>\n",
       "    <tr>\n",
       "      <th>2022-04-06 19:00:00</th>\n",
       "      <td>5.1</td>\n",
       "    </tr>\n",
       "    <tr>\n",
       "      <th>2022-04-06 20:00:00</th>\n",
       "      <td>5.0</td>\n",
       "    </tr>\n",
       "    <tr>\n",
       "      <th>2022-04-06 21:00:00</th>\n",
       "      <td>5.3</td>\n",
       "    </tr>\n",
       "    <tr>\n",
       "      <th>2022-04-06 22:00:00</th>\n",
       "      <td>5.2</td>\n",
       "    </tr>\n",
       "    <tr>\n",
       "      <th>2022-04-06 23:00:00</th>\n",
       "      <td>5.2</td>\n",
       "    </tr>\n",
       "  </tbody>\n",
       "</table>\n",
       "<p>43059 rows × 1 columns</p>\n",
       "</div>"
      ],
      "text/plain": [
       "                     PM2.5\n",
       "Time                      \n",
       "2017-04-06 00:00:00    6.8\n",
       "2017-04-06 01:00:00    5.3\n",
       "2017-04-06 02:00:00    5.3\n",
       "2017-04-06 03:00:00    5.6\n",
       "2017-04-06 04:00:00    5.9\n",
       "...                    ...\n",
       "2022-04-06 19:00:00    5.1\n",
       "2022-04-06 20:00:00    5.0\n",
       "2022-04-06 21:00:00    5.3\n",
       "2022-04-06 22:00:00    5.2\n",
       "2022-04-06 23:00:00    5.2\n",
       "\n",
       "[43059 rows x 1 columns]"
      ]
     },
     "execution_count": 4,
     "metadata": {},
     "output_type": "execute_result"
    }
   ],
   "source": [
    "seattle_air.dropna(inplace= True) #inplace = True allow the replacement of na to None\n",
    "seattle_air\n",
    "# seattle_air.columns('PM2.5' == None); call for rows with None"
   ]
  },
  {
   "cell_type": "markdown",
   "metadata": {},
   "source": [
    "### Defining Classes\n",
    "You can create your own custom objects by defining classes. A simple dataframe object blueprint has been provided in below for demo"
   ]
  },
  {
   "cell_type": "code",
   "execution_count": 5,
   "metadata": {},
   "outputs": [],
   "source": [
    "class DataFrame:\n",
    "    \"\"\"Represents two-dimensional tabular data structured around an index and column names.\"\"\"\n",
    "\n",
    "    def __init__(self, index, columns, data):\n",
    "        \"\"\"Initializes a new DataFrame object from the given index, columns, and tabular data.\"\"\"\n",
    "        print(\"Initializing DataFrame\")\n",
    "        self.index = index\n",
    "        self.columns = columns\n",
    "        self.data = data\n",
    "\n",
    "    def dropna(self, inplace=False):\n",
    "        \"\"\"\"\n",
    "        Drops all rows containing NaN from this DataFrame. If inplace, returns None and modifies\n",
    "        self. If not inplace, returns a new DataFrame without modifying self.\n",
    "        \"\"\"\n",
    "        print(\"Calling dropna\")\n",
    "        if not inplace:\n",
    "            return DataFrame([...], [...], [...])\n",
    "        else:\n",
    "            self.columns = [...]\n",
    "            self.index = [...]\n",
    "            self.data = [...]\n",
    "            return None\n",
    "\n",
    "    def __getitem__(self, column_or_indexer):\n",
    "        \"\"\"Given a column or indexer, returns the selection as a new Series or DataFrame object.\"\"\"\n",
    "        print(\"Calling __getitem__\")\n",
    "        if column_or_indexer in self.columns:\n",
    "            return \"Series\" # placeholder for series/ one dimensional array\n",
    "        else:\n",
    "            return DataFrame([...], [...], [...])"
   ]
  },
  {
   "cell_type": "markdown",
   "metadata": {},
   "source": [
    "Notice how every method alwways takes `self` as the first parameter\n",
    "\n",
    "Notice the `dunder method` _getitem_ is an overloading of built-in method within python\n",
    "- Dunder method characteristics:\n",
    "    1. double underscore naming scheme: __<name>__\n",
    "    2. called through built-in python operator\n",
    "    3. they can be overloaded by user customization\n",
    "- Ex, \\__init__\\, which is the more crucial dunder method for a class writing; user define of initialization of instance variables within the class"
   ]
  },
  {
   "cell_type": "code",
   "execution_count": 20,
   "metadata": {},
   "outputs": [
    {
     "name": "stdout",
     "output_type": "stream",
     "text": [
      "Initializing DataFrame\n",
      "Calling __getitem__\n",
      "Series\n",
      "Calling __getitem__\n"
     ]
    },
    {
     "data": {
      "text/plain": [
       "'Series'"
      ]
     },
     "execution_count": 20,
     "metadata": {},
     "output_type": "execute_result"
    }
   ],
   "source": [
    "# example usage of dataframe class that was written\n",
    "example = DataFrame([0, 1, 2], [\"PM2.5\"], [10, 20, 30])\n",
    "print(example[\"PM2.5\"])\n",
    "example[\"PM2.5\"]\n",
    "# expected output: \n",
    "    # the print statement at _init_\n",
    "    # \"print statement at _getitem_, twice\n",
    "    # not __str__ object representation/ address of the value\n",
    "    # 'Series', for we have only determine a one dimensional a array\n",
    "# note: in the built-in python operation, __getitem__ is accessed by []"
   ]
  },
  {
   "cell_type": "markdown",
   "metadata": {},
   "source": [
    "### Practice: `Student` class\n",
    "\n",
    "Write a `Student` class that represents a UW student, where each student has a `name`, a student `number`, and a `courses` dictionary that associates the name of each course to a number of credits. The `Student` class should include the following methods:\n",
    "\n",
    "- An initializer that takes the student number and the name of a file containing information about their schedule.\n",
    "- A method `__getitem__` that takes a `str` course name and returns the `int` number of credits for the course. If the student is not taking the given course, return `None`.\n",
    "- A method `get_courses` that returns a list of the courses the student is taking.\n",
    "\n",
    "Consider the following file `nicole.txt`.\n",
    "\n",
    "```\n",
    "CSE163 4\n",
    "PHIL100 4\n",
    "CSE390HA 1\n",
    "```\n",
    "\n",
    "The student's `name` is just the name of the file without the file extension. The file indicates they are taking CSE163 for 4 credits, PHIL100 for 4 credits, and CSE390HA for 1 credit."
   ]
  },
  {
   "cell_type": "code",
   "execution_count": 35,
   "metadata": {},
   "outputs": [
    {
     "name": "stdout",
     "output_type": "stream",
     "text": [
      "CSE163 4\n",
      "PHIL100 4\n",
      "CSE390HA 1\n"
     ]
    }
   ],
   "source": [
    "\n",
    "class Student:\n",
    "    def __init__(self, number: int, filename: str) -> None:\n",
    "        self.number = number\n",
    "        self.name = filename.split('.')[0]  \n",
    "        self.courses = {}\n",
    "\n",
    "        with open(filename, 'r') as file:\n",
    "            for line in file:\n",
    "                course, credits = line.split()\n",
    "                self.courses[course] = int(credits)\n",
    "\n",
    "    def __getitem__(self, course: str) -> int | None: # Optional[int] or UNION[int, None] in older python version\n",
    "        return self.courses.get(course)  # out getitem dunder utilizes dictionary built-in function get, which allows [] access of values\n",
    "    \n",
    "    def get_courses(self) -> list[str]:\n",
    "        return list(self.courses.keys())  \n",
    "    def __repr__(self) -> str:\n",
    "        return f'(name:{self.name}, number: {self.number})'\n",
    "    \n",
    "nicole = Student(1234567, \"nicole.txt\")\n",
    "for course in nicole.get_courses():\n",
    "    print(course, nicole[course])"
   ]
  },
  {
   "cell_type": "markdown",
   "metadata": {},
   "source": [
    "Optional, yet useful: type annotation. It is a writing habit that one can adopt to have clarified code with parameter and output type specified. [Type hints cheat sheet](https://mypy.readthedocs.io/en/stable/cheat_sheet_py3.html). Some examples of type annotation has already been implemented at student class, but `University Class` practices it. "
   ]
  },
  {
   "cell_type": "markdown",
   "metadata": {},
   "source": [
    "### Practice: `University` class\n",
    "\n",
    "Write a `University` class that represents one or more students enrolled in courses at a university. The `University` class should include the following methods:\n",
    "\n",
    "- An initializer that takes the university name and, optionally, a list of `Student` objects to enroll in this university.\n",
    "- A method `enrollments` that takes returns all the enrolled `Student` objects sorted in alphabetical order by student name.\n",
    "- A method `enroll` that takes a `Student` object and enrolls them in the university."
   ]
  },
  {
   "cell_type": "code",
   "execution_count": 34,
   "metadata": {},
   "outputs": [
    {
     "name": "stderr",
     "output_type": "stream",
     "text": [
      "Version 1.0.5\n"
     ]
    }
   ],
   "source": [
    "!pip install -q nb_mypy # pacakage that checks type consistency; returns error when types are inconsistent\n",
    "%reload_ext nb_mypy\n",
    "%nb_mypy mypy-options --strict\n"
   ]
  },
  {
   "cell_type": "code",
   "execution_count": 36,
   "metadata": {},
   "outputs": [
    {
     "name": "stdout",
     "output_type": "stream",
     "text": [
      "[(name:nicole, number: 1234567)]\n"
     ]
    }
   ],
   "source": [
    "\n",
    "\n",
    "class University:\n",
    "    def __init__(self, name: str, students: list['Student'] | None = None) -> None:\n",
    "        self.name = name\n",
    "        self.students = students.copy() if students else [] \n",
    "\n",
    "    def enrollments(self) -> list['Student']:\n",
    "        return sorted(self.students, key=lambda s: s.name) # sort by name attribute using lambda function\n",
    "\n",
    "    def enroll(self,student: 'Student') -> None:\n",
    "        self.students.append(student)\n",
    "\n",
    "uw = University(\"Udub\", [nicole])\n",
    "print(uw.enrollments()) # print(List of Student Objects)\n"
   ]
  },
  {
   "cell_type": "markdown",
   "metadata": {},
   "source": [
    "### Mutable default parameters\n",
    "Without default parameter (name: str = 'Udub'), one can modify the the uni nam ein the university object of a student enrolled to. It can be pros and cons, depending on how you design your class"
   ]
  },
  {
   "cell_type": "code",
   "execution_count": 38,
   "metadata": {},
   "outputs": [
    {
     "data": {
      "text/plain": [
       "[]"
      ]
     },
     "execution_count": 38,
     "metadata": {},
     "output_type": "execute_result"
    }
   ],
   "source": [
    "wsu = University(\"Wazzu\")\n",
    "wsu.enrollments()\n"
   ]
  },
  {
   "cell_type": "code",
   "execution_count": 39,
   "metadata": {},
   "outputs": [
    {
     "data": {
      "text/plain": [
       "[]"
      ]
     },
     "execution_count": 39,
     "metadata": {},
     "output_type": "execute_result"
    }
   ],
   "source": [
    "sea_u = University(\"SeaU\")\n",
    "sea_u.enrollments()"
   ]
  },
  {
   "cell_type": "code",
   "execution_count": 40,
   "metadata": {},
   "outputs": [
    {
     "data": {
      "text/plain": [
       "[(name:nicole, number: 1234567)]"
      ]
     },
     "execution_count": 40,
     "metadata": {},
     "output_type": "execute_result"
    }
   ],
   "source": [
    "\n",
    "sea_u.enroll(nicole)\n",
    "sea_u.enrollments()"
   ]
  }
 ],
 "metadata": {
  "kernelspec": {
   "display_name": "base",
   "language": "python",
   "name": "python3"
  },
  "language_info": {
   "codemirror_mode": {
    "name": "ipython",
    "version": 3
   },
   "file_extension": ".py",
   "mimetype": "text/x-python",
   "name": "python",
   "nbconvert_exporter": "python",
   "pygments_lexer": "ipython3",
   "version": "3.12.2"
  }
 },
 "nbformat": 4,
 "nbformat_minor": 2
}
